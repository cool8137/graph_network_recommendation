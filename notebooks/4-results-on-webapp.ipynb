{
 "cells": [
  {
   "cell_type": "markdown",
   "metadata": {},
   "source": [
    "# Book Recommendation"
   ]
  },
  {
   "cell_type": "markdown",
   "metadata": {},
   "source": [
    "![Network diagram](../outputs/edge_list_gephi.png)"
   ]
  },
  {
   "cell_type": "code",
   "execution_count": 1,
   "metadata": {},
   "outputs": [],
   "source": [
    "import pandas as pd\n",
    "import networkx as nx\n",
    "\n",
    "from typing import Any\n",
    "\n",
    "from ipywidgets import interact, Select\n",
    "from IPython.display import display\n",
    "        "
   ]
  },
  {
   "cell_type": "code",
   "execution_count": 2,
   "metadata": {},
   "outputs": [],
   "source": [
    "# Load and clean data\n",
    "read_ticks_df = pd.read_csv(\"../datasets/dataset.csv\")\n",
    "read_ticks_df[\"date_created\"] = pd.to_datetime(read_ticks_df[\"date_created\"].str.strip().str.replace('\"', ''))"
   ]
  },
  {
   "cell_type": "code",
   "execution_count": 3,
   "metadata": {},
   "outputs": [],
   "source": [
    "# For each user, sort the ticks based on the date created. \n",
    "\n",
    "EDGE_COLUMNS = [\"source\", \"target\"]\n",
    "\n",
    "def create_edge_df(df: pd.DataFrame) -> pd.DataFrame:\n",
    "    df = df.sort_values(\"date_created\")\n",
    "    if len(df) <= 1:\n",
    "        # Return empty dataframe\n",
    "        return pd.DataFrame([], columns=EDGE_COLUMNS)\n",
    "    return pd.DataFrame(\n",
    "        {\n",
    "            \"source\": df[\"book\"].iloc[:-1].values,\n",
    "            \"target\": df[\"book\"].iloc[1:].values,\n",
    "        }\n",
    "    )\n",
    "\n",
    "\n",
    "edge_list_df = read_ticks_df.groupby(\"user_id\").apply(create_edge_df).reset_index(0).reset_index(drop=True)"
   ]
  },
  {
   "cell_type": "code",
   "execution_count": 4,
   "metadata": {},
   "outputs": [],
   "source": [
    "# Create Directed Graph\n",
    "graph = nx.from_pandas_edgelist(edge_list_df, create_using=nx.DiGraph)"
   ]
  },
  {
   "cell_type": "code",
   "execution_count": 5,
   "metadata": {},
   "outputs": [],
   "source": [
    "# Create WebApp\n",
    "\n",
    "class GraphRecommendationApp:\n",
    "    \"\"\"\n",
    "    Deploys a Recommendation App\n",
    "    * Takes a directed graph as input. \n",
    "    * Computes centrality.\n",
    "    * Deploys an app to recommend best node based on centrality.\n",
    "    \"\"\"\n",
    "\n",
    "    def __init__(self, graph: nx.DiGraph) -> None:\n",
    "        self.graph = graph.copy()\n",
    "        self.centrality_df = self._compute_centrality()\n",
    "\n",
    "    def _compute_centrality(self) -> pd.DataFrame:\n",
    "        # Compute Centrality\n",
    "        out=nx.out_degree_centrality(self.graph)\n",
    "        nx.set_node_attributes(self.graph, out, 'out-degree')\n",
    "        bb = nx.betweenness_centrality(self.graph)\n",
    "        nx.set_node_attributes(self.graph, bb, 'betweenness')\n",
    "        eigen= nx.eigenvector_centrality(self.graph)\n",
    "        nx.set_node_attributes(self.graph, eigen, 'eigen')\n",
    "\n",
    "        return pd.DataFrame(\n",
    "            [\n",
    "                {\"node\": node_name, **node_data}\n",
    "                for node_name, node_data in self.graph.nodes(data=True)\n",
    "            ]\n",
    "        )\n",
    "    \n",
    "    def get_nodes(self) -> list[Any]:\n",
    "        return self.centrality_df[\"node\"].sort_values().unique().tolist()\n",
    "    \n",
    "    def view(self, book=''):\n",
    "        row1=[n for n in graph[book]]\n",
    "        df2= pd.DataFrame(row1)\n",
    "        df3=df2.set_index(0).join(self.centrality_df.set_index('node'))\n",
    "        df3=df3.sort_values(by=['eigen'],ascending=False)\n",
    "        return df3\n",
    "    \n",
    "    def display_app(self) -> None:\n",
    "        w = Select(options=self.get_nodes())\n",
    "        v = interact(self.view, book=w)\n",
    "        display(v)\n",
    "        "
   ]
  },
  {
   "cell_type": "code",
   "execution_count": 6,
   "metadata": {},
   "outputs": [
    {
     "data": {
      "application/vnd.jupyter.widget-view+json": {
       "model_id": "688c35c98ddf4fb2b6c28933d983e83f",
       "version_major": 2,
       "version_minor": 0
      },
      "text/plain": [
       "interactive(children=(Select(description='book', options=('abernethy2', 'abraham', 'adzic', 'alag', 'allaire',…"
      ]
     },
     "metadata": {},
     "output_type": "display_data"
    },
    {
     "data": {
      "text/plain": [
       "<function ipywidgets.widgets.interaction._InteractFactory.__call__.<locals>.<lambda>(*args, **kwargs)>"
      ]
     },
     "metadata": {},
     "output_type": "display_data"
    }
   ],
   "source": [
    "book_rec = GraphRecommendationApp(graph)\n",
    "book_rec.display_app()"
   ]
  }
 ],
 "metadata": {
  "kernelspec": {
   "display_name": ".venv",
   "language": "python",
   "name": "python3"
  },
  "language_info": {
   "codemirror_mode": {
    "name": "ipython",
    "version": 3
   },
   "file_extension": ".py",
   "mimetype": "text/x-python",
   "name": "python",
   "nbconvert_exporter": "python",
   "pygments_lexer": "ipython3",
   "version": "3.11.4"
  },
  "orig_nbformat": 4
 },
 "nbformat": 4,
 "nbformat_minor": 2
}
