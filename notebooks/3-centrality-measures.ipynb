{
 "cells": [
  {
   "cell_type": "markdown",
   "metadata": {},
   "source": [
    "# 3 Analyzing Network Using Centrality Measures"
   ]
  },
  {
   "cell_type": "code",
   "execution_count": 1,
   "metadata": {},
   "outputs": [],
   "source": [
    "import numpy as np\n",
    "import pandas as pd\n",
    "import networkx as nx\n",
    "\n",
    "from typing import List, Any"
   ]
  },
  {
   "cell_type": "code",
   "execution_count": 2,
   "metadata": {},
   "outputs": [],
   "source": [
    "# Load edge list and create graph\n",
    "edge_list_df = pd.read_csv(\"../outputs/edge_list.csv\")\n",
    "\n",
    "graph = nx.from_pandas_edgelist(edge_list_df, create_using=nx.DiGraph)"
   ]
  },
  {
   "cell_type": "markdown",
   "metadata": {},
   "source": [
    "Subtask 1: Calculate centrality measurements for each node"
   ]
  },
  {
   "cell_type": "code",
   "execution_count": 3,
   "metadata": {},
   "outputs": [],
   "source": [
    "out=nx.out_degree_centrality(graph)\n",
    "nx.set_node_attributes(graph, out, 'out-degree')"
   ]
  },
  {
   "cell_type": "code",
   "execution_count": 4,
   "metadata": {},
   "outputs": [],
   "source": [
    "bb = nx.betweenness_centrality(graph)\n",
    "nx.set_node_attributes(graph, bb, 'betweenness')"
   ]
  },
  {
   "cell_type": "code",
   "execution_count": 5,
   "metadata": {},
   "outputs": [],
   "source": [
    "eigen= nx.eigenvector_centrality(graph)\n",
    "nx.set_node_attributes(graph, eigen, 'eigen')"
   ]
  },
  {
   "cell_type": "markdown",
   "metadata": {},
   "source": [
    "Subtask 2: Create a dataframe of all the nodes connected to a book of interest"
   ]
  },
  {
   "cell_type": "code",
   "execution_count": 6,
   "metadata": {},
   "outputs": [
    {
     "data": {
      "text/html": [
       "<div>\n",
       "<style scoped>\n",
       "    .dataframe tbody tr th:only-of-type {\n",
       "        vertical-align: middle;\n",
       "    }\n",
       "\n",
       "    .dataframe tbody tr th {\n",
       "        vertical-align: top;\n",
       "    }\n",
       "\n",
       "    .dataframe thead th {\n",
       "        text-align: right;\n",
       "    }\n",
       "</style>\n",
       "<table border=\"1\" class=\"dataframe\">\n",
       "  <thead>\n",
       "    <tr style=\"text-align: right;\">\n",
       "      <th></th>\n",
       "      <th>book-chapter</th>\n",
       "      <th>out-degree</th>\n",
       "      <th>betweenness</th>\n",
       "      <th>eigen</th>\n",
       "    </tr>\n",
       "  </thead>\n",
       "  <tbody>\n",
       "    <tr>\n",
       "      <th>280</th>\n",
       "      <td>('lauret', ' chapter-1')</td>\n",
       "      <td>0.007133</td>\n",
       "      <td>0.032076</td>\n",
       "      <td>0.217647</td>\n",
       "    </tr>\n",
       "    <tr>\n",
       "      <th>394</th>\n",
       "      <td>('munro', ' chapter-1')</td>\n",
       "      <td>0.007133</td>\n",
       "      <td>0.037793</td>\n",
       "      <td>0.205791</td>\n",
       "    </tr>\n",
       "    <tr>\n",
       "      <th>462</th>\n",
       "      <td>('lauret', ' chapter-11')</td>\n",
       "      <td>0.003566</td>\n",
       "      <td>0.010509</td>\n",
       "      <td>0.203417</td>\n",
       "    </tr>\n",
       "    <tr>\n",
       "      <th>189</th>\n",
       "      <td>('yuen', ' chapter-1')</td>\n",
       "      <td>0.004993</td>\n",
       "      <td>0.029097</td>\n",
       "      <td>0.164980</td>\n",
       "    </tr>\n",
       "    <tr>\n",
       "      <th>265</th>\n",
       "      <td>('siriwardena', ' chapter-1')</td>\n",
       "      <td>0.008559</td>\n",
       "      <td>0.040668</td>\n",
       "      <td>0.158386</td>\n",
       "    </tr>\n",
       "  </tbody>\n",
       "</table>\n",
       "</div>"
      ],
      "text/plain": [
       "                      book-chapter  out-degree  betweenness     eigen\n",
       "280       ('lauret', ' chapter-1')    0.007133     0.032076  0.217647\n",
       "394        ('munro', ' chapter-1')    0.007133     0.037793  0.205791\n",
       "462      ('lauret', ' chapter-11')    0.003566     0.010509  0.203417\n",
       "189         ('yuen', ' chapter-1')    0.004993     0.029097  0.164980\n",
       "265  ('siriwardena', ' chapter-1')    0.008559     0.040668  0.158386"
      ]
     },
     "execution_count": 6,
     "metadata": {},
     "output_type": "execute_result"
    }
   ],
   "source": [
    "nodes_centrality_df=pd.DataFrame(\n",
    "    [\n",
    "        {\"book-chapter\": node_name, **node_data}\n",
    "        for node_name, node_data in graph.nodes(data=True)\n",
    "    ]\n",
    ").sort_values(\"eigen\", ascending=False)\n",
    "\n",
    "nodes_centrality_df.head()"
   ]
  },
  {
   "cell_type": "code",
   "execution_count": 7,
   "metadata": {},
   "outputs": [
    {
     "name": "stdout",
     "output_type": "stream",
     "text": [
      "('lauret', ' chapter-1')\n"
     ]
    }
   ],
   "source": [
    "# Choosing the node with heighest centrality for now\n",
    "choosen_node = nodes_centrality_df[\"book-chapter\"].iloc[0]\n",
    "print(choosen_node)"
   ]
  },
  {
   "cell_type": "code",
   "execution_count": 8,
   "metadata": {},
   "outputs": [
    {
     "name": "stdout",
     "output_type": "stream",
     "text": [
      "[\"('palmer', ' about-this-book')\", \"('elger', ' chapter-1')\", \"('clinton3', ' chapter-1')\", \"('lauret', ' chapter-3')\", \"('lauret', ' chapter-5')\", \"('lauret', ' about-this-book')\", \"('lauret', ' chapter-11')\", \"('rotem', ' about-this-book')\", \"('lauret', ' chapter-9')\"]\n"
     ]
    }
   ],
   "source": [
    "def get_connected_nodes(graph: nx.DiGraph, node: Any) -> List[Any]:\n",
    "    \"\"\"Returns all successor nodes, excluding self reference\"\"\"\n",
    "    return list(node for node in graph.successors(choosen_node) if node != choosen_node)\n",
    "\n",
    "\n",
    "connected_nodes = get_connected_nodes(graph, choosen_node)\n",
    "print(connected_nodes)"
   ]
  },
  {
   "cell_type": "markdown",
   "metadata": {},
   "source": [
    "Subtask 3: Create a dataframe of the nodes connected to the book of interest and their centrality measures."
   ]
  },
  {
   "cell_type": "code",
   "execution_count": 9,
   "metadata": {},
   "outputs": [
    {
     "data": {
      "text/html": [
       "<div>\n",
       "<style scoped>\n",
       "    .dataframe tbody tr th:only-of-type {\n",
       "        vertical-align: middle;\n",
       "    }\n",
       "\n",
       "    .dataframe tbody tr th {\n",
       "        vertical-align: top;\n",
       "    }\n",
       "\n",
       "    .dataframe thead th {\n",
       "        text-align: right;\n",
       "    }\n",
       "</style>\n",
       "<table border=\"1\" class=\"dataframe\">\n",
       "  <thead>\n",
       "    <tr style=\"text-align: right;\">\n",
       "      <th></th>\n",
       "      <th>book-chapter</th>\n",
       "      <th>out-degree</th>\n",
       "      <th>betweenness</th>\n",
       "      <th>eigen</th>\n",
       "    </tr>\n",
       "  </thead>\n",
       "  <tbody>\n",
       "    <tr>\n",
       "      <th>462</th>\n",
       "      <td>('lauret', ' chapter-11')</td>\n",
       "      <td>0.003566</td>\n",
       "      <td>0.010509</td>\n",
       "      <td>0.203417</td>\n",
       "    </tr>\n",
       "    <tr>\n",
       "      <th>400</th>\n",
       "      <td>('clinton3', ' chapter-1')</td>\n",
       "      <td>0.003566</td>\n",
       "      <td>0.014915</td>\n",
       "      <td>0.131770</td>\n",
       "    </tr>\n",
       "    <tr>\n",
       "      <th>613</th>\n",
       "      <td>('lauret', ' chapter-3')</td>\n",
       "      <td>0.003566</td>\n",
       "      <td>0.010123</td>\n",
       "      <td>0.123035</td>\n",
       "    </tr>\n",
       "    <tr>\n",
       "      <th>277</th>\n",
       "      <td>('lauret', ' about-this-book')</td>\n",
       "      <td>0.005706</td>\n",
       "      <td>0.029768</td>\n",
       "      <td>0.114395</td>\n",
       "    </tr>\n",
       "    <tr>\n",
       "      <th>464</th>\n",
       "      <td>('lauret', ' chapter-9')</td>\n",
       "      <td>0.001427</td>\n",
       "      <td>0.001795</td>\n",
       "      <td>0.099102</td>\n",
       "    </tr>\n",
       "    <tr>\n",
       "      <th>359</th>\n",
       "      <td>('elger', ' chapter-1')</td>\n",
       "      <td>0.000713</td>\n",
       "      <td>0.000000</td>\n",
       "      <td>0.079306</td>\n",
       "    </tr>\n",
       "    <tr>\n",
       "      <th>617</th>\n",
       "      <td>('lauret', ' chapter-5')</td>\n",
       "      <td>0.001427</td>\n",
       "      <td>0.003015</td>\n",
       "      <td>0.079306</td>\n",
       "    </tr>\n",
       "    <tr>\n",
       "      <th>281</th>\n",
       "      <td>('palmer', ' about-this-book')</td>\n",
       "      <td>0.000000</td>\n",
       "      <td>0.000000</td>\n",
       "      <td>0.058126</td>\n",
       "    </tr>\n",
       "    <tr>\n",
       "      <th>1223</th>\n",
       "      <td>('rotem', ' about-this-book')</td>\n",
       "      <td>0.000713</td>\n",
       "      <td>0.001705</td>\n",
       "      <td>0.058126</td>\n",
       "    </tr>\n",
       "  </tbody>\n",
       "</table>\n",
       "</div>"
      ],
      "text/plain": [
       "                        book-chapter  out-degree  betweenness     eigen\n",
       "462        ('lauret', ' chapter-11')    0.003566     0.010509  0.203417\n",
       "400       ('clinton3', ' chapter-1')    0.003566     0.014915  0.131770\n",
       "613         ('lauret', ' chapter-3')    0.003566     0.010123  0.123035\n",
       "277   ('lauret', ' about-this-book')    0.005706     0.029768  0.114395\n",
       "464         ('lauret', ' chapter-9')    0.001427     0.001795  0.099102\n",
       "359          ('elger', ' chapter-1')    0.000713     0.000000  0.079306\n",
       "617         ('lauret', ' chapter-5')    0.001427     0.003015  0.079306\n",
       "281   ('palmer', ' about-this-book')    0.000000     0.000000  0.058126\n",
       "1223   ('rotem', ' about-this-book')    0.000713     0.001705  0.058126"
      ]
     },
     "execution_count": 9,
     "metadata": {},
     "output_type": "execute_result"
    }
   ],
   "source": [
    "connected_to_choosen_node_df = nodes_centrality_df[\n",
    "    nodes_centrality_df[\"book-chapter\"].isin(connected_nodes)\n",
    "] \n",
    "\n",
    "connected_to_choosen_node_df.sort_values(\"eigen\", ascending=False)"
   ]
  },
  {
   "cell_type": "markdown",
   "metadata": {},
   "source": [
    "Subtask 4: Sort the nodes by their centrality measures to create a basic recommendation."
   ]
  },
  {
   "cell_type": "code",
   "execution_count": 10,
   "metadata": {},
   "outputs": [],
   "source": [
    "def get_recommended_node(nodes_centrality_df: pd.DataFrame, connected_nodes: List[Any]) -> Any:\n",
    "    sorted_connected_to_choosen_node_df = nodes_centrality_df[\n",
    "        nodes_centrality_df[\"book-chapter\"].isin(connected_nodes)\n",
    "    ].sort_values(\"eigen\", ascending=False)\n",
    "    return sorted_connected_to_choosen_node_df[\"book-chapter\"].iloc[0]"
   ]
  },
  {
   "cell_type": "code",
   "execution_count": 11,
   "metadata": {},
   "outputs": [
    {
     "name": "stdout",
     "output_type": "stream",
     "text": [
      "('lauret', ' chapter-11')\n"
     ]
    }
   ],
   "source": [
    "recommended_node = get_recommended_node(nodes_centrality_df, connected_nodes)\n",
    "print(recommended_node)"
   ]
  },
  {
   "cell_type": "markdown",
   "metadata": {},
   "source": [
    "**Observation:**\n",
    "* Book chapter with highest eigen centrality was `('lauret', ' chapter-1')`\n",
    "* When chosing this book chapter, based on centrality measure, the recommended book chapter would be `('lauret', ' chapter-11')`"
   ]
  }
 ],
 "metadata": {
  "kernelspec": {
   "display_name": ".venv",
   "language": "python",
   "name": "python3"
  },
  "language_info": {
   "codemirror_mode": {
    "name": "ipython",
    "version": 3
   },
   "file_extension": ".py",
   "mimetype": "text/x-python",
   "name": "python",
   "nbconvert_exporter": "python",
   "pygments_lexer": "ipython3",
   "version": "3.11.4"
  },
  "orig_nbformat": 4
 },
 "nbformat": 4,
 "nbformat_minor": 2
}
